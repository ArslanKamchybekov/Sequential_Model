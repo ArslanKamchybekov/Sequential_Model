{
 "cells": [
  {
   "cell_type": "code",
   "execution_count": 7,
   "metadata": {},
   "outputs": [],
   "source": [
    "import tensorflow as tf\n",
    "from tensorflow import keras\n",
    "from tensorflow.keras.models import Sequential\n",
    "from tensorflow.keras.layers import Activation, Dense\n",
    "from tensorflow.keras.optimizers.legacy import Adam\n",
    "from tensorflow.keras.metrics import categorical_crossentropy\n",
    "import numpy as np\n",
    "from random import randint\n",
    "from sklearn.utils import shuffle\n",
    "from sklearn.preprocessing import MinMaxScaler"
   ]
  },
  {
   "cell_type": "code",
   "execution_count": 4,
   "metadata": {},
   "outputs": [],
   "source": [
    "model = Sequential([\n",
    "    Dense(units=16, input_shape=(1,), activation = 'relu'),\n",
    "    Dense(units=32, activation = 'relu'),\n",
    "    Dense(units=2, activation = 'softmax'),\n",
    "])"
   ]
  },
  {
   "cell_type": "code",
   "execution_count": 10,
   "metadata": {},
   "outputs": [
    {
     "name": "stdout",
     "output_type": "stream",
     "text": [
      "Model: \"sequential_1\"\n",
      "_________________________________________________________________\n",
      " Layer (type)                Output Shape              Param #   \n",
      "=================================================================\n",
      " dense_3 (Dense)             (None, 16)                32        \n",
      "                                                                 \n",
      " dense_4 (Dense)             (None, 32)                544       \n",
      "                                                                 \n",
      " dense_5 (Dense)             (None, 2)                 66        \n",
      "                                                                 \n",
      "=================================================================\n",
      "Total params: 642\n",
      "Trainable params: 642\n",
      "Non-trainable params: 0\n",
      "_________________________________________________________________\n"
     ]
    }
   ],
   "source": [
    "model.summary()"
   ]
  },
  {
   "cell_type": "code",
   "execution_count": 8,
   "metadata": {},
   "outputs": [],
   "source": [
    "train_labels = []\n",
    "train_samples = []"
   ]
  },
  {
   "cell_type": "code",
   "execution_count": 9,
   "metadata": {},
   "outputs": [],
   "source": [
    "for i in range(50):\n",
    "    random_younger = randint(13, 64)\n",
    "    train_samples.append(random_younger)\n",
    "    train_labels.append(1)\n",
    "    \n",
    "    random_older = randint(65, 100)\n",
    "    train_samples.append(random_older)\n",
    "    train_labels.append(0)\n",
    "    \n",
    "for i in range(1000):\n",
    "    random_younger = randint(13, 64)\n",
    "    train_samples.append(random_younger)\n",
    "    train_labels.append(0)\n",
    "    \n",
    "    random_older = randint(65, 100)\n",
    "    train_samples.append(random_older)\n",
    "    train_labels.append(1)    "
   ]
  },
  {
   "cell_type": "code",
   "execution_count": 10,
   "metadata": {},
   "outputs": [],
   "source": [
    "train_labels = np.array(train_labels)\n",
    "train_samples = np.array(train_samples)\n",
    "train_labels, train_samples = shuffle(train_labels, train_samples)"
   ]
  },
  {
   "cell_type": "code",
   "execution_count": 11,
   "metadata": {},
   "outputs": [],
   "source": [
    "scaler = MinMaxScaler(feature_range=(0,1))\n",
    "scaled_train_samples = scaler.fit_transform(train_samples.reshape(-1, 1))"
   ]
  },
  {
   "cell_type": "code",
   "execution_count": 13,
   "metadata": {},
   "outputs": [],
   "source": [
    "model.compile(optimizer=Adam(learning_rate=0.0001), loss='sparse_categorical_crossentropy', metrics=['accuracy'])"
   ]
  },
  {
   "cell_type": "code",
   "execution_count": 14,
   "metadata": {},
   "outputs": [
    {
     "name": "stdout",
     "output_type": "stream",
     "text": [
      "Epoch 1/30\n",
      "210/210 - 0s - loss: 0.6610 - accuracy: 0.5533 - 176ms/epoch - 836us/step\n",
      "Epoch 2/30\n"
     ]
    },
    {
     "name": "stderr",
     "output_type": "stream",
     "text": [
      "2023-11-05 17:59:24.328044: W tensorflow/tsl/platform/profile_utils/cpu_utils.cc:128] Failed to get CPU frequency: 0 Hz\n"
     ]
    },
    {
     "name": "stdout",
     "output_type": "stream",
     "text": [
      "210/210 - 0s - loss: 0.6362 - accuracy: 0.6529 - 62ms/epoch - 297us/step\n",
      "Epoch 3/30\n",
      "210/210 - 0s - loss: 0.6045 - accuracy: 0.7190 - 64ms/epoch - 306us/step\n",
      "Epoch 4/30\n",
      "210/210 - 0s - loss: 0.5685 - accuracy: 0.7757 - 57ms/epoch - 273us/step\n",
      "Epoch 5/30\n",
      "210/210 - 0s - loss: 0.5318 - accuracy: 0.8195 - 54ms/epoch - 258us/step\n",
      "Epoch 6/30\n",
      "210/210 - 0s - loss: 0.4936 - accuracy: 0.8405 - 53ms/epoch - 251us/step\n",
      "Epoch 7/30\n",
      "210/210 - 0s - loss: 0.4561 - accuracy: 0.8643 - 53ms/epoch - 251us/step\n",
      "Epoch 8/30\n",
      "210/210 - 0s - loss: 0.4211 - accuracy: 0.8757 - 53ms/epoch - 252us/step\n",
      "Epoch 9/30\n",
      "210/210 - 0s - loss: 0.3899 - accuracy: 0.8924 - 53ms/epoch - 254us/step\n",
      "Epoch 10/30\n",
      "210/210 - 0s - loss: 0.3629 - accuracy: 0.9014 - 53ms/epoch - 252us/step\n",
      "Epoch 11/30\n",
      "210/210 - 0s - loss: 0.3402 - accuracy: 0.9095 - 52ms/epoch - 247us/step\n",
      "Epoch 12/30\n",
      "210/210 - 0s - loss: 0.3225 - accuracy: 0.9114 - 54ms/epoch - 257us/step\n",
      "Epoch 13/30\n",
      "210/210 - 0s - loss: 0.3083 - accuracy: 0.9162 - 54ms/epoch - 256us/step\n",
      "Epoch 14/30\n",
      "210/210 - 0s - loss: 0.2974 - accuracy: 0.9224 - 53ms/epoch - 251us/step\n",
      "Epoch 15/30\n",
      "210/210 - 0s - loss: 0.2888 - accuracy: 0.9257 - 54ms/epoch - 257us/step\n",
      "Epoch 16/30\n",
      "210/210 - 0s - loss: 0.2820 - accuracy: 0.9310 - 57ms/epoch - 271us/step\n",
      "Epoch 17/30\n",
      "210/210 - 0s - loss: 0.2767 - accuracy: 0.9295 - 55ms/epoch - 264us/step\n",
      "Epoch 18/30\n",
      "210/210 - 0s - loss: 0.2724 - accuracy: 0.9333 - 55ms/epoch - 263us/step\n",
      "Epoch 19/30\n",
      "210/210 - 0s - loss: 0.2689 - accuracy: 0.9286 - 54ms/epoch - 256us/step\n",
      "Epoch 20/30\n",
      "210/210 - 0s - loss: 0.2661 - accuracy: 0.9338 - 54ms/epoch - 258us/step\n",
      "Epoch 21/30\n",
      "210/210 - 0s - loss: 0.2637 - accuracy: 0.9324 - 53ms/epoch - 255us/step\n",
      "Epoch 22/30\n",
      "210/210 - 0s - loss: 0.2618 - accuracy: 0.9310 - 55ms/epoch - 264us/step\n",
      "Epoch 23/30\n",
      "210/210 - 0s - loss: 0.2601 - accuracy: 0.9338 - 53ms/epoch - 254us/step\n",
      "Epoch 24/30\n",
      "210/210 - 0s - loss: 0.2584 - accuracy: 0.9357 - 53ms/epoch - 254us/step\n",
      "Epoch 25/30\n",
      "210/210 - 0s - loss: 0.2573 - accuracy: 0.9352 - 53ms/epoch - 253us/step\n",
      "Epoch 26/30\n",
      "210/210 - 0s - loss: 0.2564 - accuracy: 0.9376 - 57ms/epoch - 270us/step\n",
      "Epoch 27/30\n",
      "210/210 - 0s - loss: 0.2553 - accuracy: 0.9338 - 56ms/epoch - 266us/step\n",
      "Epoch 28/30\n",
      "210/210 - 0s - loss: 0.2545 - accuracy: 0.9343 - 58ms/epoch - 275us/step\n",
      "Epoch 29/30\n",
      "210/210 - 0s - loss: 0.2537 - accuracy: 0.9367 - 58ms/epoch - 276us/step\n",
      "Epoch 30/30\n",
      "210/210 - 0s - loss: 0.2527 - accuracy: 0.9390 - 58ms/epoch - 275us/step\n"
     ]
    },
    {
     "data": {
      "text/plain": [
       "<keras.callbacks.History at 0x2b2a6a790>"
      ]
     },
     "execution_count": 14,
     "metadata": {},
     "output_type": "execute_result"
    }
   ],
   "source": [
    "model.fit(x = scaled_train_samples, y = train_labels, batch_size = 10, epochs = 30, shuffle = True, verbose = 2)"
   ]
  },
  {
   "cell_type": "code",
   "execution_count": null,
   "metadata": {},
   "outputs": [],
   "source": []
  }
 ],
 "metadata": {
  "kernelspec": {
   "display_name": "Python 3 (ipykernel)",
   "language": "python",
   "name": "python3"
  },
  "language_info": {
   "codemirror_mode": {
    "name": "ipython",
    "version": 3
   },
   "file_extension": ".py",
   "mimetype": "text/x-python",
   "name": "python",
   "nbconvert_exporter": "python",
   "pygments_lexer": "ipython3",
   "version": "3.11.5"
  }
 },
 "nbformat": 4,
 "nbformat_minor": 4
}
